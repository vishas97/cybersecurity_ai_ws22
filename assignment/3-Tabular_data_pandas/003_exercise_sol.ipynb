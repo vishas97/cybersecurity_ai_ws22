{
 "cells": [
  {
   "cell_type": "markdown",
   "id": "AaLFKovwzjdH",
   "metadata": {
    "id": "AaLFKovwzjdH"
   },
   "source": [
    "\"The Adult dataset is from the Census Bureau and the task is to predict whether a given adult makes more than $50,000 a year based attributes such as education, hours of work per week, etc..\"\n",
    "The dataset was drawn from the 1994 United States Census Bureau data and is credited to Ronny Kohavi and Barry Becker. \n",
    "\n",
    "\n",
    "*   Target field: Income (The income is divide into two classes: <=50K and >50K )\n",
    "*   A certain number of attributes (variables): These are the demographics and other features to describe a person\n",
    "\n",
    "For more information regarding the dataset see [Adult income](https://archive.ics.uci.edu/ml/datasets/adult)\n"
   ]
  },
  {
   "cell_type": "markdown",
   "id": "Bp5W-BUh2FcS",
   "metadata": {
    "id": "Bp5W-BUh2FcS"
   },
   "source": [
    "Code for importing the required packages (is given)"
   ]
  },
  {
   "cell_type": "code",
   "execution_count": null,
   "id": "ADyUa3Azze-L",
   "metadata": {
    "id": "ADyUa3Azze-L"
   },
   "outputs": [],
   "source": [
    "import os\n",
    "\n",
    "import numpy as np\n",
    "import pandas as pd\n",
    "\n",
    "from sklearn.model_selection import train_test_split\n",
    "from sklearn.preprocessing import StandardScaler, MinMaxScaler\n",
    "from sklearn.metrics import confusion_matrix, classification_report\n",
    "from sklearn import metrics\n",
    "\n",
    "from matplotlib import pyplot as plt\n",
    "import seaborn as sns\n",
    "\n",
    "import tensorflow as tf\n",
    "from tensorflow.keras import Input, Model, layers, losses, optimizers, callbacks"
   ]
  },
  {
   "cell_type": "markdown",
   "id": "oRt9-ZFxzdDy",
   "metadata": {
    "id": "oRt9-ZFxzdDy"
   },
   "source": [
    "The Url and column names of the dataset are given. Read this dataset into a pandas dataframe and store it as a csv file. "
   ]
  },
  {
   "cell_type": "code",
   "execution_count": null,
   "id": "b62422dd",
   "metadata": {
    "ExecuteTime": {
     "end_time": "2022-11-03T15:43:56.015287Z",
     "start_time": "2022-11-03T15:43:53.874486Z"
    },
    "id": "b62422dd"
   },
   "outputs": [],
   "source": [
    "# load the dataset\n",
    "url_data = 'https://archive.ics.uci.edu/ml/machine-learning-databases/adult/adult.data'\n",
    "\n",
    "column_names = ['age', 'workclass', 'fnlwgt', 'education', 'educational-num','marital-status',\n",
    "                'occupation', 'relationship', 'race', 'gender','capital-gain', 'capital-loss', \n",
    "                'hours-per-week', 'native-country','income']\n"
   ]
  },
  {
   "cell_type": "markdown",
   "id": "eB4f6cha2ZnY",
   "metadata": {
    "id": "eB4f6cha2ZnY"
   },
   "source": [
    "Provide a **description** of the dataset in pandas"
   ]
  },
  {
   "cell_type": "code",
   "execution_count": null,
   "id": "fd28514d",
   "metadata": {
    "ExecuteTime": {
     "end_time": "2022-11-03T15:43:56.088170Z",
     "start_time": "2022-11-03T15:43:56.017050Z"
    },
    "id": "fd28514d"
   },
   "outputs": [],
   "source": [
    "# Describe the dataframe\n"
   ]
  },
  {
   "cell_type": "markdown",
   "id": "2HBVR_f7278_",
   "metadata": {
    "id": "2HBVR_f7278_"
   },
   "source": [
    "Find out and print the unique values per column "
   ]
  },
  {
   "cell_type": "code",
   "execution_count": null,
   "id": "90e9baa3",
   "metadata": {
    "ExecuteTime": {
     "end_time": "2022-11-03T15:43:56.344632Z",
     "start_time": "2022-11-03T15:43:56.090976Z"
    },
    "id": "90e9baa3"
   },
   "outputs": [],
   "source": [
    "# Print out unique values per column\n"
   ]
  },
  {
   "cell_type": "markdown",
   "id": "RRuQQy913SoQ",
   "metadata": {
    "id": "RRuQQy913SoQ"
   },
   "source": [
    "Compare the columns 'education' and 'educational-num', drop the column 'education'."
   ]
  },
  {
   "cell_type": "code",
   "execution_count": null,
   "id": "2e038ac8",
   "metadata": {
    "ExecuteTime": {
     "end_time": "2022-11-03T15:43:56.379164Z",
     "start_time": "2022-11-03T15:43:56.346004Z"
    },
    "id": "2e038ac8"
   },
   "outputs": [],
   "source": []
  },
  {
   "cell_type": "markdown",
   "id": "JimwucSf3lyy",
   "metadata": {
    "id": "JimwucSf3lyy"
   },
   "source": [
    "Remove whitespaces at the beginning and end of all attributes of type String and drop the rows containing '?'"
   ]
  },
  {
   "cell_type": "code",
   "execution_count": null,
   "id": "89201c27",
   "metadata": {
    "ExecuteTime": {
     "end_time": "2022-11-03T15:43:56.403425Z",
     "start_time": "2022-11-03T15:43:56.381212Z"
    },
    "id": "89201c27"
   },
   "outputs": [],
   "source": [
    "# Drop rows containing '?'\n"
   ]
  },
  {
   "cell_type": "markdown",
   "id": "bHdF-d793sVP",
   "metadata": {
    "id": "bHdF-d793sVP"
   },
   "source": [
    "Provide a **description** of your dataframe again. Did the number of rows reduce?"
   ]
  },
  {
   "cell_type": "code",
   "execution_count": null,
   "id": "3e8030a8",
   "metadata": {
    "ExecuteTime": {
     "end_time": "2022-11-03T15:43:56.477254Z",
     "start_time": "2022-11-03T15:43:56.405609Z"
    },
    "id": "3e8030a8"
   },
   "outputs": [],
   "source": [
    "# A description of your dataframe"
   ]
  },
  {
   "cell_type": "markdown",
   "id": "ZvNo73a939FW",
   "metadata": {
    "id": "ZvNo73a939FW"
   },
   "source": [
    "Make a new column with 'age-groups' and drop 'age'\n"
   ]
  },
  {
   "cell_type": "code",
   "execution_count": 1,
   "id": "a27c6da5",
   "metadata": {
    "ExecuteTime": {
     "end_time": "2022-11-04T10:04:32.476825Z",
     "start_time": "2022-11-04T10:04:32.463609Z"
    },
    "id": "a27c6da5"
   },
   "outputs": [],
   "source": [
    "# Make new column with 'age-groups' and drop 'age'\n",
    "age_bins = [0, 18, 25, 35, 45, 55, 65, 100]"
   ]
  },
  {
   "cell_type": "markdown",
   "id": "OJUuwlVO4SnK",
   "metadata": {
    "id": "OJUuwlVO4SnK"
   },
   "source": [
    "Print two lists containing:\n",
    "\n",
    "\n",
    "*   Only numerical columns\n",
    "*   Only Categorical columns\n",
    "\n",
    "\n"
   ]
  },
  {
   "cell_type": "code",
   "execution_count": null,
   "id": "02bd7187",
   "metadata": {
    "ExecuteTime": {
     "end_time": "2022-11-03T15:43:56.498670Z",
     "start_time": "2022-11-03T15:43:56.494632Z"
    },
    "id": "02bd7187"
   },
   "outputs": [],
   "source": [
    "# get new columns, cat and num cols\n"
   ]
  },
  {
   "cell_type": "markdown",
   "id": "yhgSz9Z-4iuA",
   "metadata": {
    "id": "yhgSz9Z-4iuA"
   },
   "source": [
    "Normalize all numerical columns"
   ]
  },
  {
   "cell_type": "code",
   "execution_count": null,
   "id": "b22fbd1d",
   "metadata": {
    "ExecuteTime": {
     "end_time": "2022-11-03T15:43:56.518010Z",
     "start_time": "2022-11-03T15:43:56.502704Z"
    },
    "id": "b22fbd1d"
   },
   "outputs": [],
   "source": [
    "# Normalize all numerical columns\n"
   ]
  },
  {
   "cell_type": "markdown",
   "id": "mCU6fsnx4m2i",
   "metadata": {
    "id": "mCU6fsnx4m2i"
   },
   "source": [
    "Plot the column distributions (one plot for each column)\n",
    "* Hint: lookup [Seaborn histplot](https://seaborn.pydata.org/generated/seaborn.histplot.html) for numerical columns\n",
    "* Hint: lookup [Seaborn countplot](https://seaborn.pydata.org/generated/seaborn.countplot.html) for categorical columns"
   ]
  },
  {
   "cell_type": "code",
   "execution_count": null,
   "id": "3fd055a0",
   "metadata": {
    "ExecuteTime": {
     "end_time": "2022-11-03T15:43:58.788216Z",
     "start_time": "2022-11-03T15:43:56.519513Z"
    },
    "id": "3fd055a0",
    "scrolled": false
   },
   "outputs": [],
   "source": [
    "# Plot distributions of columns\n"
   ]
  },
  {
   "cell_type": "markdown",
   "id": "iOmYKOhy5_pG",
   "metadata": {
    "id": "iOmYKOhy5_pG"
   },
   "source": [
    "Label encode your categorical columns and print label encodings for each variable"
   ]
  },
  {
   "cell_type": "code",
   "execution_count": null,
   "id": "6f86e819",
   "metadata": {
    "ExecuteTime": {
     "end_time": "2022-11-03T15:44:40.355662Z",
     "start_time": "2022-11-03T15:44:40.327074Z"
    },
    "id": "6f86e819"
   },
   "outputs": [],
   "source": [
    "# Label encoding of categorical columns\n",
    "from sklearn.preprocessing import LabelEncoder\n",
    "\n",
    "\n",
    "# Print label encodings for each variable\n"
   ]
  },
  {
   "cell_type": "markdown",
   "id": "BVzioifO6RBG",
   "metadata": {
    "id": "BVzioifO6RBG"
   },
   "source": [
    "Plot heatmap of cross correlations\n",
    "\n",
    "Hint: lookup [Seaborn heatmap](https://seaborn.pydata.org/generated/seaborn.heatmap.html) and [pairwise correlation of columns](https://pandas.pydata.org/docs/reference/api/pandas.DataFrame.corr.html)\n",
    "\n",
    "Compute the correlation of each column with the target column 'income'"
   ]
  },
  {
   "cell_type": "code",
   "execution_count": null,
   "id": "a2ae31ea",
   "metadata": {
    "ExecuteTime": {
     "end_time": "2022-11-03T15:44:40.648070Z",
     "start_time": "2022-11-03T15:44:40.625381Z"
    },
    "id": "a2ae31ea"
   },
   "outputs": [],
   "source": [
    "# Heatmap of cross correlations\n",
    "\n",
    "\n",
    "# correlation of columns with target 'income' (print them)\n"
   ]
  },
  {
   "cell_type": "markdown",
   "id": "b6BWd7W369eo",
   "metadata": {
    "id": "b6BWd7W369eo"
   },
   "source": [
    "Provide a pairplot of columns where the correlation with 'income' is higher than 0.1:\n",
    "\n",
    "\n",
    "* Hint: See [Plot pairwise relationships in a dataset](https://seaborn.pydata.org/generated/seaborn.pairplot.html)\n",
    "* Hint: Subsample the data for plotting (otherwise it will take forever to render), you can use 1000 random samples\n",
    "* Hint: Set hue='income' in sns.pairplot\n",
    "\n",
    "\n"
   ]
  },
  {
   "cell_type": "code",
   "execution_count": null,
   "id": "b516e8da",
   "metadata": {
    "ExecuteTime": {
     "end_time": "2022-11-03T15:44:50.511620Z",
     "start_time": "2022-11-03T15:44:40.649838Z"
    },
    "id": "b516e8da"
   },
   "outputs": [],
   "source": [
    "# Pairplot of columns correlated with income\n"
   ]
  },
  {
   "cell_type": "markdown",
   "id": "MUkLLQir5Ns3",
   "metadata": {
    "id": "MUkLLQir5Ns3"
   },
   "source": [
    "Do a [one-hot encoding](https://en.wikipedia.org/wiki/One-hot) of all categorical columns.  \n",
    "Hint: See [pandas.get_dummies](https://pandas.pydata.org/docs/reference/api/pandas.get_dummies.html).\n",
    "* Print the first five rows of your new dataframe."
   ]
  },
  {
   "cell_type": "code",
   "execution_count": null,
   "id": "8b1bd0dd",
   "metadata": {},
   "outputs": [],
   "source": [
    "# One-hot encoding"
   ]
  },
  {
   "cell_type": "markdown",
   "id": "boqe51Zp7eeQ",
   "metadata": {
    "id": "boqe51Zp7eeQ"
   },
   "source": [
    "Split the data into trainset, valset (1000 samples) and testset (10000 samples). Print the shape of your training, validation and test data. "
   ]
  },
  {
   "cell_type": "code",
   "execution_count": null,
   "id": "841bf999",
   "metadata": {
    "ExecuteTime": {
     "end_time": "2022-11-03T15:43:58.910682Z",
     "start_time": "2022-11-03T15:43:58.846159Z"
    },
    "id": "841bf999"
   },
   "outputs": [],
   "source": [
    "# Split the data into trainset, valset (1000 samples) and testset (10000 samples)\n"
   ]
  },
  {
   "cell_type": "markdown",
   "id": "5RfOk6Y07xPu",
   "metadata": {
    "id": "5RfOk6Y07xPu"
   },
   "source": [
    "Write a function that splits the dataframe into X,Y, where Y can be any of the (possibly one-hot encoded) columns "
   ]
  },
  {
   "cell_type": "code",
   "execution_count": null,
   "id": "839f3b30",
   "metadata": {
    "ExecuteTime": {
     "end_time": "2022-11-03T15:43:58.918672Z",
     "start_time": "2022-11-03T15:43:58.912161Z"
    },
    "id": "839f3b30",
    "outputId": "fccfc1e6-3eb9-4a7d-81ca-e38ab707fadc"
   },
   "outputs": [
    {
     "name": "stdout",
     "output_type": "stream",
     "text": [
      "(19169, 96) (19169, 2)\n"
     ]
    }
   ],
   "source": [
    "# Write a function thats splits the dataframe into X,Y, where Y can be any column\n",
    "def split_xy(df, colname):\n",
    "\n",
    "    return X, Y\n",
    "\n",
    "# X, Y = split_xy(df_train, 'income') // \n",
    "# print(X.shape, Y.shape) // "
   ]
  },
  {
   "cell_type": "markdown",
   "id": "u1YU9lXU8CeE",
   "metadata": {
    "id": "u1YU9lXU8CeE"
   },
   "source": [
    "Write and train a linear classifier with tensorflow keras to predict 'income'\n",
    "\n",
    "\n",
    "*   Loss: CategoricalCrossentropy\n",
    "\n",
    "\n",
    "\n"
   ]
  },
  {
   "cell_type": "code",
   "execution_count": null,
   "id": "85737792",
   "metadata": {
    "ExecuteTime": {
     "end_time": "2022-11-03T15:44:20.318276Z",
     "start_time": "2022-11-03T15:44:20.226197Z"
    },
    "id": "85737792"
   },
   "outputs": [],
   "source": [
    "# Train a linear classifier to predict 'income'\n"
   ]
  },
  {
   "cell_type": "markdown",
   "id": "6KmIuFs48b2i",
   "metadata": {
    "id": "6KmIuFs48b2i"
   },
   "source": [
    "Print the classification report and confusion matrix "
   ]
  },
  {
   "cell_type": "code",
   "execution_count": null,
   "id": "bf67df53",
   "metadata": {
    "ExecuteTime": {
     "end_time": "2022-11-03T15:44:40.230097Z",
     "start_time": "2022-11-03T15:44:39.788839Z"
    },
    "id": "bf67df53"
   },
   "outputs": [],
   "source": [
    "# Classification report + confusion matrix"
   ]
  },
  {
   "cell_type": "markdown",
   "id": "wLf6NAef8iZP",
   "metadata": {
    "id": "wLf6NAef8iZP"
   },
   "source": [
    "* Now try some other models such as K-nearest neighbors, Random Forest classifier, and Support Vector Machine (code for importing the classifiers is given below)\n",
    "* Print the classification report and confusion matrix of each classifier "
   ]
  },
  {
   "cell_type": "code",
   "execution_count": null,
   "id": "ce381889",
   "metadata": {
    "ExecuteTime": {
     "end_time": "2022-11-03T16:00:16.150073Z",
     "start_time": "2022-11-03T15:59:44.905152Z"
    },
    "id": "ce381889"
   },
   "outputs": [],
   "source": [
    "# Try out non-linear models\n",
    "from sklearn.neighbors import KNeighborsClassifier\n",
    "from sklearn.ensemble import RandomForestClassifier\n",
    "from sklearn.svm import SVC\n",
    "\n"
   ]
  },
  {
   "cell_type": "markdown",
   "id": "7ghSlw-P9W_M",
   "metadata": {
    "id": "7ghSlw-P9W_M"
   },
   "source": [
    "Train a neural network for 50 epochs with:\n",
    "* An input layer\n",
    "* Two dense layers, where between the two dense layers is a dropout layer\n",
    "* Input -> Dense -> Dropout-> Dense\n",
    "\n",
    "* Loss: CategoricalCrossentropy\n",
    "* Metrics: 'accuracy'"
   ]
  },
  {
   "cell_type": "code",
   "execution_count": null,
   "id": "26c86718",
   "metadata": {
    "ExecuteTime": {
     "end_time": "2022-11-03T16:04:28.462851Z",
     "start_time": "2022-11-03T16:04:06.219740Z"
    },
    "id": "26c86718",
    "scrolled": true
   },
   "outputs": [],
   "source": [
    "# Try out non-linear NN\n"
   ]
  },
  {
   "cell_type": "markdown",
   "id": "lEVw7G7G-HKS",
   "metadata": {
    "id": "lEVw7G7G-HKS"
   },
   "source": [
    "Print the classification report and confusion matrix "
   ]
  },
  {
   "cell_type": "code",
   "execution_count": null,
   "id": "0f4bd85f",
   "metadata": {
    "ExecuteTime": {
     "end_time": "2022-11-03T16:04:28.928225Z",
     "start_time": "2022-11-03T16:04:28.466397Z"
    },
    "id": "0f4bd85f"
   },
   "outputs": [],
   "source": []
  },
  {
   "cell_type": "markdown",
   "id": "b696d01b",
   "metadata": {},
   "source": [
    "Did the non-linear classifiers improve over the linear classifier? Interprete the results."
   ]
  }
 ],
 "metadata": {
  "colab": {
   "collapsed_sections": [],
   "provenance": []
  },
  "kernelspec": {
   "display_name": "Python 3 (ipykernel)",
   "language": "python",
   "name": "python3"
  },
  "language_info": {
   "codemirror_mode": {
    "name": "ipython",
    "version": 3
   },
   "file_extension": ".py",
   "mimetype": "text/x-python",
   "name": "python",
   "nbconvert_exporter": "python",
   "pygments_lexer": "ipython3",
   "version": "3.8.11"
  }
 },
 "nbformat": 4,
 "nbformat_minor": 5
}
