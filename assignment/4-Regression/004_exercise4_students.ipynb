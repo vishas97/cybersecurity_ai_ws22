{
 "cells": [
  {
   "cell_type": "markdown",
   "id": "aQsPxTqoaWXM",
   "metadata": {
    "id": "aQsPxTqoaWXM"
   },
   "source": [
    "In this exercise, the task is to **train a regression model** to predict housing prices. To do this, you will use the *Boston Housing Dataset*, which contains data from the U.S. Census Service and contains data about housing in the area of Boston, Massachusetts. "
   ]
  },
  {
   "cell_type": "code",
   "execution_count": 29,
   "id": "ea863639",
   "metadata": {
    "ExecuteTime": {
     "end_time": "2022-11-18T12:46:48.340689Z",
     "start_time": "2022-11-18T12:46:48.332801Z"
    },
    "id": "ea863639"
   },
   "outputs": [],
   "source": [
    "import numpy as np\n",
    "import pandas as pd\n",
    "\n",
    "from sklearn import datasets\n",
    "from sklearn.model_selection import train_test_split\n",
    "from sklearn.metrics import r2_score, mean_squared_error\n",
    "from sklearn.preprocessing import StandardScaler\n",
    "from sklearn.linear_model import LinearRegression\n",
    "\n",
    "\n",
    "import matplotlib.pyplot as plt\n",
    "import seaborn as sns\n",
    "\n",
    "import tensorflow as tf\n",
    "from tensorflow.keras import layers, losses, optimizers, Input, Model"
   ]
  },
  {
   "cell_type": "markdown",
   "id": "M159qdM_6cPB",
   "metadata": {
    "id": "M159qdM_6cPB"
   },
   "source": [
    "**Load the dataset** either via [sklearn](https://scikit-learn.org/stable/datasets/toy_dataset.html#boston-house-prices-dataset) or directly from its [original source](http://lib.stat.cmu.edu/datasets/boston)\n",
    "into two *pandas* DataFrames X and Y (the features and target)."
   ]
  },
  {
   "cell_type": "markdown",
   "id": "H4eprq207Cnc",
   "metadata": {
    "id": "H4eprq207Cnc"
   },
   "source": [
    "Provide a **description** of the dataset in *pandas*. This will help you to get a first overview."
   ]
  },
  {
   "cell_type": "code",
   "execution_count": 1,
   "id": "7QNkA65a7ALI",
   "metadata": {
    "ExecuteTime": {
     "end_time": "2022-11-18T12:56:50.830204Z",
     "start_time": "2022-11-18T12:56:50.824116Z"
    },
    "colab": {
     "base_uri": "https://localhost:8080/"
    },
    "id": "7QNkA65a7ALI",
    "outputId": "45e04b32-e5c5-432f-a944-bb6abeb753f1"
   },
   "outputs": [],
   "source": [
    "# 'describe()' the dataset"
   ]
  },
  {
   "cell_type": "markdown",
   "id": "cbP-vwmI7Q9f",
   "metadata": {
    "id": "cbP-vwmI7Q9f"
   },
   "source": [
    "**Clean up the data** by checking for missing values and removing them.\n",
    "\n",
    "*Hint: DataFrames have a built-in method for doing that.*"
   ]
  },
  {
   "cell_type": "code",
   "execution_count": 2,
   "id": "LUJwP2rh7RyG",
   "metadata": {
    "ExecuteTime": {
     "end_time": "2022-11-18T12:56:56.515515Z",
     "start_time": "2022-11-18T12:56:56.511225Z"
    },
    "colab": {
     "base_uri": "https://localhost:8080/"
    },
    "id": "LUJwP2rh7RyG",
    "outputId": "bc39b311-a91a-4739-fd8d-de3517e955b3"
   },
   "outputs": [],
   "source": [
    "# remove missing entries (if there are any)"
   ]
  },
  {
   "cell_type": "markdown",
   "id": "NCMm9MFnElF7",
   "metadata": {
    "id": "NCMm9MFnElF7"
   },
   "source": [
    "To better understand the dataset, **visualize** correlations between feature values and target values. This should highlight which features are most important for our models."
   ]
  },
  {
   "cell_type": "code",
   "execution_count": 3,
   "id": "-MAgKbJi-Vwi",
   "metadata": {
    "ExecuteTime": {
     "end_time": "2022-11-18T12:57:23.827287Z",
     "start_time": "2022-11-18T12:57:23.823195Z"
    },
    "colab": {
     "base_uri": "https://localhost:8080/",
     "height": 483
    },
    "id": "-MAgKbJi-Vwi",
    "outputId": "f28284d4-0368-4d20-e6a1-106b4c661d8b",
    "scrolled": true
   },
   "outputs": [],
   "source": [
    "# create a scatter plot for each feature against the target variable"
   ]
  },
  {
   "cell_type": "markdown",
   "id": "2ii6hByH7KaY",
   "metadata": {
    "id": "2ii6hByH7KaY"
   },
   "source": [
    "As you should be able to see from the scatter plots, features 'CHAS' and 'RAD' appear to be categorical values, as they form straight lines (vertical lines, if target value is represented by the y-axis). This coincides with the dataset attribute description."
   ]
  },
  {
   "cell_type": "markdown",
   "id": "fVeW1Y9vhlcF",
   "metadata": {
    "id": "fVeW1Y9vhlcF"
   },
   "source": [
    "**Visualize** the distribution of each feature using a plot of your choice. Additionally, **plot the cross-correlations** of all features. This will highlight redundancies in our dataset.\n",
    "\n",
    "*Hint: DataFrames have built-in methods for simple visualizations. You may use them.*"
   ]
  },
  {
   "cell_type": "code",
   "execution_count": 4,
   "id": "aa11da19",
   "metadata": {
    "ExecuteTime": {
     "end_time": "2022-11-18T12:57:31.771944Z",
     "start_time": "2022-11-18T12:57:31.767359Z"
    },
    "colab": {
     "base_uri": "https://localhost:8080/",
     "height": 602
    },
    "id": "aa11da19",
    "outputId": "9da3cc52-365a-4c4d-a875-4731c675fc11"
   },
   "outputs": [],
   "source": [
    "# visualize the distribution of features"
   ]
  },
  {
   "cell_type": "code",
   "execution_count": 5,
   "id": "_A4e11ME75Ub",
   "metadata": {
    "ExecuteTime": {
     "end_time": "2022-11-18T12:57:44.299435Z",
     "start_time": "2022-11-18T12:57:44.295470Z"
    },
    "colab": {
     "base_uri": "https://localhost:8080/",
     "height": 315
    },
    "id": "_A4e11ME75Ub",
    "outputId": "e4bf9799-1054-4ba5-dc03-6908edb8d693"
   },
   "outputs": [],
   "source": [
    "# calculate and print the cross-correlation matrix for X\n",
    "\n",
    "# visualize the cross-correlations between all features"
   ]
  },
  {
   "cell_type": "markdown",
   "id": "VOq33RRq-m56",
   "metadata": {
    "id": "VOq33RRq-m56"
   },
   "source": [
    "Now, **preprocess the data and targets** by normalizing continuous features using mean normalization and one-hot-encoding categorical features (CHAS is already one-hot-encoded)."
   ]
  },
  {
   "cell_type": "code",
   "execution_count": 9,
   "id": "wwC7EO5aQFwO",
   "metadata": {
    "ExecuteTime": {
     "end_time": "2022-11-18T12:43:59.673681Z",
     "start_time": "2022-11-18T12:43:59.656253Z"
    },
    "colab": {
     "base_uri": "https://localhost:8080/",
     "height": 206
    },
    "id": "wwC7EO5aQFwO",
    "outputId": "f1e5922b-0414-4424-cf6d-6d0a7e5c27fe"
   },
   "outputs": [],
   "source": [
    "# normalize continuous features\n",
    "cont_features = ['CRIM', 'ZN', 'INDUS', 'NOX', 'RM', 'AGE', 'DIS', 'TAX', 'PTRATIO', 'B', 'LSTAT']"
   ]
  },
  {
   "cell_type": "code",
   "execution_count": 6,
   "id": "7M1RrFpH-mt-",
   "metadata": {
    "ExecuteTime": {
     "end_time": "2022-11-18T12:58:12.972428Z",
     "start_time": "2022-11-18T12:58:12.968095Z"
    },
    "colab": {
     "base_uri": "https://localhost:8080/",
     "height": 300
    },
    "id": "7M1RrFpH-mt-",
    "outputId": "dd721cd1-dcde-48e4-a8ff-0d88030432f0"
   },
   "outputs": [],
   "source": [
    "# one-hot-encode the 'RAD' feature"
   ]
  },
  {
   "cell_type": "markdown",
   "id": "zf0M5ywG-46-",
   "metadata": {
    "id": "zf0M5ywG-46-"
   },
   "source": [
    "**Split the data** into training set and test set (80%/20%).\n"
   ]
  },
  {
   "cell_type": "code",
   "execution_count": 7,
   "id": "5sHC1egR-4xk",
   "metadata": {
    "ExecuteTime": {
     "end_time": "2022-11-18T12:58:19.380127Z",
     "start_time": "2022-11-18T12:58:19.375854Z"
    },
    "id": "5sHC1egR-4xk"
   },
   "outputs": [],
   "source": [
    "# split data and target DataFrames into data train, data test, target train and target test datasets"
   ]
  },
  {
   "cell_type": "markdown",
   "id": "LkhiMPsWNx0g",
   "metadata": {
    "id": "LkhiMPsWNx0g"
   },
   "source": [
    "**Define a total of 4 linear regression models**. For weight regularization, one should use Ridge ($L^2$) regression and the other should use Lasso ($L^1$) regression. **Train both models** with MSE and MAE loss functions. You can use an optimizer of your choice."
   ]
  },
  {
   "cell_type": "code",
   "execution_count": 8,
   "id": "70ddb673",
   "metadata": {
    "ExecuteTime": {
     "end_time": "2022-11-18T12:59:19.316425Z",
     "start_time": "2022-11-18T12:59:19.312414Z"
    },
    "id": "70ddb673"
   },
   "outputs": [],
   "source": [
    "# define linear regression models in TensorFlow\n",
    "# with L2 weight regularization (Ridge regression)\n",
    "# with L1 regularization (Lasso regression)\n",
    "# test MSE and MAE loss functions, what is the difference?\n"
   ]
  },
  {
   "cell_type": "markdown",
   "id": "Ufjo5p5mV8QV",
   "metadata": {
    "id": "Ufjo5p5mV8QV"
   },
   "source": [
    "Now, additionally **train a non-linear neural network** consisting of three dense layers (64/32/1 units). Use ReLU activations after each layer except the last."
   ]
  },
  {
   "cell_type": "markdown",
   "id": "ObXOLLAna_26",
   "metadata": {
    "id": "ObXOLLAna_26"
   },
   "source": [
    "It's time to evaluate the performance of your models. For regression tasks, it is interesting to compare the values predicted by the models for a given set of features with the actual ground truth. Start by **creating a scatter plot** that has predicted values on one axis and the true values on the other axis. Also **calculate the $R^2$ score** for each model. You may use the [`r2_score()`](https://scikit-learn.org/stable/modules/generated/sklearn.metrics.r2_score.html#sklearn-metrics-r2-score) function from scikit learn.\n",
    "\n",
    "If most of the plotted points lie around the x=y line, the model is performing well."
   ]
  },
  {
   "cell_type": "code",
   "execution_count": 9,
   "id": "9e595aea",
   "metadata": {
    "ExecuteTime": {
     "end_time": "2022-11-18T12:59:33.099710Z",
     "start_time": "2022-11-18T12:59:33.095750Z"
    },
    "colab": {
     "base_uri": "https://localhost:8080/",
     "height": 602
    },
    "id": "9e595aea",
    "outputId": "dd57fd85-b356-4e9f-b0d9-2cd177fc6d37"
   },
   "outputs": [],
   "source": [
    "# plot true against predicted values for each model"
   ]
  },
  {
   "cell_type": "markdown",
   "id": "ikxKJZrmbuFW",
   "metadata": {
    "id": "ikxKJZrmbuFW"
   },
   "source": [
    "Compare the $R^2$ scores of the models. You should be able to recognize large differences between the neural networks and linear regression models. Why do neural networks perform so much better on this task?"
   ]
  },
  {
   "cell_type": "markdown",
   "id": "H-17SQMRgg-P",
   "metadata": {
    "id": "H-17SQMRgg-P"
   },
   "source": [
    "Plot the error (also called 'residual') distribution for each model by plotting histograms of the differences between predicted and ground truth values.\n",
    "\n",
    "Ideally, the residuals are normally distributed and centered at 0. "
   ]
  },
  {
   "cell_type": "code",
   "execution_count": 10,
   "id": "2AEpCmi94_SX",
   "metadata": {
    "ExecuteTime": {
     "end_time": "2022-11-18T12:59:41.106988Z",
     "start_time": "2022-11-18T12:59:41.102739Z"
    },
    "colab": {
     "base_uri": "https://localhost:8080/",
     "height": 602
    },
    "id": "2AEpCmi94_SX",
    "outputId": "59d4614d-153a-4d57-f335-0cd9f433ccce"
   },
   "outputs": [],
   "source": [
    "# plot the error (residual) distribution for each model"
   ]
  },
  {
   "cell_type": "code",
   "execution_count": 11,
   "id": "5b268d7e",
   "metadata": {
    "ExecuteTime": {
     "end_time": "2022-11-18T12:59:47.724950Z",
     "start_time": "2022-11-18T12:59:47.720984Z"
    }
   },
   "outputs": [],
   "source": [
    "# print abs correlation with target"
   ]
  },
  {
   "cell_type": "markdown",
   "id": "d5d66d4e",
   "metadata": {},
   "source": [
    "Train a linear regression model and a non-linear regression model on the variable that has the highest correlation with the target only.\n",
    "Do a scatterplot of the data points and plot the regression model into the scatterplot."
   ]
  },
  {
   "cell_type": "code",
   "execution_count": null,
   "id": "26e00e20",
   "metadata": {
    "ExecuteTime": {
     "end_time": "2022-11-18T12:45:31.428259Z",
     "start_time": "2022-11-18T12:45:30.574881Z"
    }
   },
   "outputs": [],
   "source": []
  }
 ],
 "metadata": {
  "colab": {
   "provenance": []
  },
  "kernelspec": {
   "display_name": "Python 3 (ipykernel)",
   "language": "python",
   "name": "python3"
  },
  "language_info": {
   "codemirror_mode": {
    "name": "ipython",
    "version": 3
   },
   "file_extension": ".py",
   "mimetype": "text/x-python",
   "name": "python",
   "nbconvert_exporter": "python",
   "pygments_lexer": "ipython3",
   "version": "3.8.11"
  }
 },
 "nbformat": 4,
 "nbformat_minor": 5
}
