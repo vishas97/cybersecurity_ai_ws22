{
 "cells": [
  {
   "cell_type": "code",
   "execution_count": 1,
   "id": "846c7eec",
   "metadata": {
    "ExecuteTime": {
     "end_time": "2022-12-09T10:56:04.277919Z",
     "start_time": "2022-12-09T10:56:03.570554Z"
    }
   },
   "outputs": [],
   "source": [
    "import os\n",
    "from collections import Counter\n",
    "import numpy as np\n",
    "import pandas as pd\n",
    "\n",
    "from matplotlib import pyplot as plt\n",
    "import seaborn as sns"
   ]
  },
  {
   "cell_type": "markdown",
   "id": "b8d8f83c",
   "metadata": {},
   "source": [
    "### 1. Re-identification attack\n",
    "\n",
    " - Load the .csv file in a DataFrame *adult*. Besides the usual adult dataset it also contains (made up) names, dates of birth and zip codes.\n",
    " - Create a new DataFrame *pii* containing only the columns 'Name', 'Birth Date', 'Zipcode'. Drop the 'Name' column from the *adult* dataset. This process is called **de-identification**.\n",
    " - A **re-identification** attack consists of joining ([pd.merge](https://pandas.pydata.org/docs/reference/api/pandas.merge.html)) additional information with a de-identified dataset. \n",
    "      - How many people can be re-identified by using only the 'Birth Date' column? \n",
    "      - How many by using 'Zipcode'? \n",
    "      - What if both 'Birth Date' and 'Zipcode' are used?"
   ]
  },
  {
   "cell_type": "code",
   "execution_count": null,
   "id": "8cf5b7f3",
   "metadata": {},
   "outputs": [],
   "source": []
  },
  {
   "cell_type": "markdown",
   "id": "df4a9b62",
   "metadata": {
    "ExecuteTime": {
     "end_time": "2022-12-09T10:56:41.271042Z",
     "start_time": "2022-12-09T10:56:41.265891Z"
    }
   },
   "source": [
    "### 2. Differentially Private Queries\n",
    "\n",
    "Releasing aggregate statistics of a database can also leak information. The [Laplace mechanism](https://en.wikipedia.org/wiki/Additive_noise_mechanisms) is one method to make queries $f:D\\rightarrow R$ differentially private. It adds suitably scaled noise from a Laplace distribution to the data. To find the correct noise scale for achieving $\\epsilon$-DP, the global sensitivity of the function $f$, defined as \n",
    "$s = \\arg\\max |f(D_0)-f(D_1)|$ over all neighboring datasets $D_0, D_1$ is needed.\n",
    "\n",
    "0. Laplace mechanism:\n",
    "    - Given $\\epsilon>0$ and global sensitivity $s$, implement the (scalar) Laplace mechanism\n",
    "    - How can this be extended to vector valued functions?\n",
    "1. Counting Query:\n",
    "    - What is the global sensitivity of a query that counts the number of records satisfying a condition?\n",
    "    - Implement an $\\epsilon$-DP counting query\n",
    "2. Sum Query:\n",
    "    - What is the global sensitivity of a query that computes the sum of a quantity? (**Hint**: clipping)\n",
    "    - Implement an $\\epsilon$-differentially private mean function using the Laplace mechanism\n",
    "3. Variance Query:\n",
    "    - Use your results from 1. and 2. to implement an $\\epsilon$-DP variance query"
   ]
  },
  {
   "cell_type": "code",
   "execution_count": null,
   "id": "d6fbd127",
   "metadata": {},
   "outputs": [],
   "source": []
  }
 ],
 "metadata": {
  "hide_input": false,
  "kernelspec": {
   "display_name": "Python 3 (ipykernel)",
   "language": "python",
   "name": "python3"
  },
  "language_info": {
   "codemirror_mode": {
    "name": "ipython",
    "version": 3
   },
   "file_extension": ".py",
   "mimetype": "text/x-python",
   "name": "python",
   "nbconvert_exporter": "python",
   "pygments_lexer": "ipython3",
   "version": "3.10.8"
  }
 },
 "nbformat": 4,
 "nbformat_minor": 5
}
